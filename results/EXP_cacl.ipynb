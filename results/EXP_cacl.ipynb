{
 "cells": [
  {
   "cell_type": "code",
   "execution_count": 1,
   "metadata": {},
   "outputs": [],
   "source": [
    "def calculate_S(alpha, gamma, c, b):\n",
    "    numerator = 1 - alpha ** (gamma + 1)\n",
    "    denominator = (1 - alpha) * (c * gamma + b + 1)\n",
    "    S = numerator / denominator\n",
    "    return S"
   ]
  },
  {
   "cell_type": "code",
   "execution_count": 18,
   "metadata": {},
   "outputs": [
    {
     "name": "stdout",
     "output_type": "stream",
     "text": [
      "0.9455662590003501\n"
     ]
    }
   ],
   "source": [
    "x=0.61; a = 8; b = 0; c= 0.21\n",
    "\n",
    "S = calculate_S(x, a, c, b)\n",
    "print(S)"
   ]
  }
 ],
 "metadata": {
  "kernelspec": {
   "display_name": "llm",
   "language": "python",
   "name": "python3"
  },
  "language_info": {
   "codemirror_mode": {
    "name": "ipython",
    "version": 3
   },
   "file_extension": ".py",
   "mimetype": "text/x-python",
   "name": "python",
   "nbconvert_exporter": "python",
   "pygments_lexer": "ipython3",
   "version": "3.9.19"
  }
 },
 "nbformat": 4,
 "nbformat_minor": 2
}
